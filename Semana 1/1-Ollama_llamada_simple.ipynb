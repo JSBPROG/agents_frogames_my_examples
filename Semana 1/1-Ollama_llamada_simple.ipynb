{
 "cells": [
  {
   "cell_type": "markdown",
   "id": "2ac1ffb9",
   "metadata": {},
   "source": [
    "# USO BÁSICO DE OLLAMA"
   ]
  },
  {
   "cell_type": "markdown",
   "id": "32ea0289",
   "metadata": {},
   "source": [
    "## Link para elegir modelos"
   ]
  },
  {
   "cell_type": "markdown",
   "id": "e6d6c6a2",
   "metadata": {},
   "source": [
    "https://ollama.com/search \n",
    "\n",
    "abre un Terminal (control+\\`) y ejecuta `ollama serve`\n",
    "\n",
    "Comandos útiles de Ollama (ejecuta estos en el terminal o con un signo de exclamación en este cuaderno):\n",
    "\n",
    "- `ollama pull <nombre_del_modelo>` descarga un modelo localmente\n",
    "- `ollama ls` lista todos los modelos que has descargado\n",
    "- `ollama rm <nombre_del_modelo>` elimina el modelo especificado de tus descargas\n",
    "\n",
    "\n",
    "Si no está en el path no lo va a encontrar dentro de un entorno, por lo tanto:\n",
    "\n",
    "-(Fuera del .venv) where ollama\n",
    "-Variables de entorno>variables de sistema>busca path y añade la salida del anterior comando\n",
    "\n",
    "SI NO FUNCIONA: \n",
    "\n",
    "for /f \"delims=\" %i in ('where ollama') do set PATH=%~dpi;%PATH%\n",
    "\n",
    "**Solo va a servir para el terminal actual. No es para todas**\n",
    "[Environment]::SetEnvironmentVariable(\"Path\", $env:Path + \";C:\\Users\\TU_USUARIO\\AppData\\Local\\Programs\\Ollama\", \"User\") \n",
    "\n",
    "(CAMBIA EL USUARIO POR EL TUYO)\n",
    "\n",
    "SI TAMPOCO FUNCIONA, es que el entorno es aislado. Agregamos al activate.bat del .venv lo siguiente:\n",
    "\n",
    "set PATH=C:\\Users\\Jorge\\AppData\\Local\\Programs\\Ollama;%PATH%\n",
    "\n",
    "(Ponlo justo antes de :END)\n",
    "\n",
    "\n",
    "\n"
   ]
  },
  {
   "cell_type": "markdown",
   "id": "0c6e0f65",
   "metadata": {},
   "source": [
    "## Importaciones"
   ]
  },
  {
   "cell_type": "code",
   "execution_count": 2,
   "id": "5c27fcaa",
   "metadata": {},
   "outputs": [
    {
     "name": "stdout",
     "output_type": "stream",
     "text": [
      "Requirement already satisfied: openai in c:\\users\\jorge\\desktop\\programacion\\curso\\agents_frogames_my_examples\\.venv\\lib\\site-packages (1.98.0)\n",
      "Requirement already satisfied: anyio<5,>=3.5.0 in c:\\users\\jorge\\desktop\\programacion\\curso\\agents_frogames_my_examples\\.venv\\lib\\site-packages (from openai) (4.10.0)\n",
      "Requirement already satisfied: distro<2,>=1.7.0 in c:\\users\\jorge\\desktop\\programacion\\curso\\agents_frogames_my_examples\\.venv\\lib\\site-packages (from openai) (1.9.0)\n",
      "Requirement already satisfied: httpx<1,>=0.23.0 in c:\\users\\jorge\\desktop\\programacion\\curso\\agents_frogames_my_examples\\.venv\\lib\\site-packages (from openai) (0.28.1)\n",
      "Requirement already satisfied: jiter<1,>=0.4.0 in c:\\users\\jorge\\desktop\\programacion\\curso\\agents_frogames_my_examples\\.venv\\lib\\site-packages (from openai) (0.10.0)\n",
      "Requirement already satisfied: pydantic<3,>=1.9.0 in c:\\users\\jorge\\desktop\\programacion\\curso\\agents_frogames_my_examples\\.venv\\lib\\site-packages (from openai) (2.11.7)\n",
      "Requirement already satisfied: sniffio in c:\\users\\jorge\\desktop\\programacion\\curso\\agents_frogames_my_examples\\.venv\\lib\\site-packages (from openai) (1.3.1)\n",
      "Requirement already satisfied: tqdm>4 in c:\\users\\jorge\\desktop\\programacion\\curso\\agents_frogames_my_examples\\.venv\\lib\\site-packages (from openai) (4.67.1)\n",
      "Requirement already satisfied: typing-extensions<5,>=4.11 in c:\\users\\jorge\\desktop\\programacion\\curso\\agents_frogames_my_examples\\.venv\\lib\\site-packages (from openai) (4.14.1)\n",
      "Requirement already satisfied: exceptiongroup>=1.0.2 in c:\\users\\jorge\\desktop\\programacion\\curso\\agents_frogames_my_examples\\.venv\\lib\\site-packages (from anyio<5,>=3.5.0->openai) (1.3.0)\n",
      "Requirement already satisfied: idna>=2.8 in c:\\users\\jorge\\desktop\\programacion\\curso\\agents_frogames_my_examples\\.venv\\lib\\site-packages (from anyio<5,>=3.5.0->openai) (3.10)\n",
      "Requirement already satisfied: certifi in c:\\users\\jorge\\desktop\\programacion\\curso\\agents_frogames_my_examples\\.venv\\lib\\site-packages (from httpx<1,>=0.23.0->openai) (2025.8.3)\n",
      "Requirement already satisfied: httpcore==1.* in c:\\users\\jorge\\desktop\\programacion\\curso\\agents_frogames_my_examples\\.venv\\lib\\site-packages (from httpx<1,>=0.23.0->openai) (1.0.9)\n",
      "Requirement already satisfied: h11>=0.16 in c:\\users\\jorge\\desktop\\programacion\\curso\\agents_frogames_my_examples\\.venv\\lib\\site-packages (from httpcore==1.*->httpx<1,>=0.23.0->openai) (0.16.0)\n",
      "Requirement already satisfied: annotated-types>=0.6.0 in c:\\users\\jorge\\desktop\\programacion\\curso\\agents_frogames_my_examples\\.venv\\lib\\site-packages (from pydantic<3,>=1.9.0->openai) (0.7.0)\n",
      "Requirement already satisfied: pydantic-core==2.33.2 in c:\\users\\jorge\\desktop\\programacion\\curso\\agents_frogames_my_examples\\.venv\\lib\\site-packages (from pydantic<3,>=1.9.0->openai) (2.33.2)\n",
      "Requirement already satisfied: typing-inspection>=0.4.0 in c:\\users\\jorge\\desktop\\programacion\\curso\\agents_frogames_my_examples\\.venv\\lib\\site-packages (from pydantic<3,>=1.9.0->openai) (0.4.1)\n",
      "Requirement already satisfied: colorama in c:\\users\\jorge\\desktop\\programacion\\curso\\agents_frogames_my_examples\\.venv\\lib\\site-packages (from tqdm>4->openai) (0.4.6)\n"
     ]
    }
   ],
   "source": [
    "!pip install openai"
   ]
  },
  {
   "cell_type": "code",
   "execution_count": 3,
   "id": "44d3b47b",
   "metadata": {},
   "outputs": [],
   "source": [
    "\n",
    "from openai import OpenAI\n",
    "from typing import List, Dict\n",
    "from IPython.display import display, Markdown"
   ]
  },
  {
   "cell_type": "markdown",
   "id": "4ec96048",
   "metadata": {},
   "source": [
    "## FUNCIONES"
   ]
  },
  {
   "cell_type": "code",
   "execution_count": 4,
   "id": "c0c1673c",
   "metadata": {},
   "outputs": [],
   "source": [
    "class Llm:\n",
    "    def __init__(self, model: str, url: str, api_key: str):\n",
    "        self._model = model\n",
    "        self._url = url\n",
    "        self._api_key = api_key\n",
    "        self._client = self._load_openai()\n",
    "\n",
    "    @property\n",
    "    def model(self) -> str:\n",
    "        return self._model\n",
    "\n",
    "    @model.setter\n",
    "    def model(self, value: str):\n",
    "        self._model = value\n",
    "\n",
    "    @property\n",
    "    def url(self) -> str:\n",
    "        return self._url\n",
    "\n",
    "    @url.setter\n",
    "    def url(self, value: str):\n",
    "        self._url = value\n",
    "        self._client = self._load_openai()  \n",
    "\n",
    "    def _load_openai(self) -> OpenAI:\n",
    "        return OpenAI(base_url=self._url, api_key=self._api_key)\n",
    "\n",
    "    def _format_message(self, user_message: str) -> List[Dict[str, str]]:\n",
    "        return [{\"role\": \"user\", \"content\": user_message}]\n",
    "\n",
    "    def generate_response(self, user_message: str) -> str:\n",
    "        messages = self._format_message(user_message)\n",
    "        response = self._client.chat.completions.create(\n",
    "            model=self._model,\n",
    "            messages=messages\n",
    "        )\n",
    "        return response.choices[0].message.content\n",
    "\n",
    "    def visualize_response(self, response: str) -> None:\n",
    "        display(Markdown(response))\n"
   ]
  },
  {
   "cell_type": "markdown",
   "id": "a898f152",
   "metadata": {},
   "source": [
    "### programa"
   ]
  },
  {
   "cell_type": "code",
   "execution_count": 5,
   "id": "fe605777",
   "metadata": {},
   "outputs": [
    {
     "name": "stderr",
     "output_type": "stream",
     "text": [
      "\u001b[?2026h\u001b[?25l\u001b[1Gpulling manifest ⠋ \u001b[K\u001b[?25h\u001b[?2026l\u001b[?2026h\u001b[?25l\u001b[1Gpulling manifest ⠙ \u001b[K\u001b[?25h\u001b[?2026l\u001b[?2026h\u001b[?25l\u001b[1Gpulling manifest ⠹ \u001b[K\u001b[?25h\u001b[?2026l\u001b[?2026h\u001b[?25l\u001b[1Gpulling manifest ⠸ \u001b[K\u001b[?25h\u001b[?2026l\u001b[?2026h\u001b[?25l\u001b[1Gpulling manifest ⠼ \u001b[K\u001b[?25h\u001b[?2026l\u001b[?2026h\u001b[?25l\u001b[1Gpulling manifest \u001b[K\n",
      "pulling dde5aa3fc5ff: 100% ▕██████████████████▏ 2.0 GB                         \u001b[K\n",
      "pulling 966de95ca8a6: 100% ▕██████████████████▏ 1.4 KB                         \u001b[K\n",
      "pulling fcc5a6bec9da: 100% ▕██████████████████▏ 7.7 KB                         \u001b[K\n",
      "pulling a70ff7e570d9: 100% ▕██████████████████▏ 6.0 KB                         \u001b[K\n",
      "pulling 56bb8bd477a5: 100% ▕██████████████████▏   96 B                         \u001b[K\n",
      "pulling 34bb5ab01051: 100% ▕██████████████████▏  561 B                         \u001b[K\n",
      "verifying sha256 digest \u001b[K\n",
      "writing manifest \u001b[K\n",
      "success \u001b[K\u001b[?25h\u001b[?2026l\n"
     ]
    }
   ],
   "source": [
    "# Carga del modelo \n",
    "#primero ollama serve en cmd\n",
    "!ollama pull llama3.2\n"
   ]
  },
  {
   "cell_type": "code",
   "execution_count": null,
   "id": "71203998",
   "metadata": {},
   "outputs": [
    {
     "data": {
      "text/markdown": [
       "¡Claro! A continuación, te presento un ejemplo de cómo puede utilizarse inteligencia artificial (IA) agente en un negocio para mejorar su eficiencia y reducir costos.\n",
       "\n",
       "**Casos prácticos**\n",
       "\n",
       "1. **Sistema de llamadas automáticas**: Un negocio de distribución eléctrica utiliza una plataforma de IA agente para gestionar sus llamadas automáticas. La inteligencia artificial identifica a los clientes que están en peligro de perder su conexión eléctrica debido al cobro excesivo e envía mensajes personalizados y ofrecimientos de ayuda para resolver el problema.\n",
       "\n",
       "La IA también detecta a los clientes que están hablando con otros, para no molestarlos de nuevo. Esto aumenta la experiencia del cliente y reduce costos en las llamadas inútiles.\n",
       "\n",
       "2. **Sistema de precios dinámicos**: Un hotel utiliza una plataforma de IA agente para determinar los precios de su hotel basados en la demanda diaria. La inteligencia artificial utiliza datos históricos, eventos locales e información climática para anticipar la demande y ajustar el precio de manera real-time.\n",
       "\n",
       "La IA reduce costos y maximiza ganancias gracias a la precisión en su predicción.\n",
       "\n",
       "3. **Asistentes virtuales**: Un tienda de comida utiliza un asistente virtual, que se desarrolla con inteligencia artificial agente para ayudar a los clientes. La IA responde a preguntas frecuentes y ayuda a recomendar opciones de precios preferidas.\n",
       "\n",
       "La IA también puede realizar encuestas y ofrecimientos personalizados para la compra real.\n",
       "\n",
       "**Ventajas**\n",
       "\n",
       "1.   **Aumento en el rendimiento**: La automatización de tareas administrativas reducción del tiempo dedicadas a estas tareas, haciendo posibles la automatización de otras tareas.\n",
       "2.  Ganancias: El aumento de ganancias se debe a una mayor precisión y eficiencia con la inteligencia artificial agente.\n",
       "3.   Reducción costos: La automatización de procesos reducción de gastos en operaciones administrativas.\n",
       "\n",
       "**Implementación**\n",
       "\n",
       "La implementación de IA agente en un negocio implica varios pasos:\n",
       "\n",
       "1.  **Eleccion del proveedor**: Se selecciona un proveedor con experiencia en soluciones de inteligencia artificial.\n",
       "2.  **Análisis de datos**: El análisis de los datos de la empresa para determinar las necesidades específicas que abordará la IA agente.\n",
       "3.  Configura el sistema: Asegúrate de que la plataforma sea adaptable a los requisitos específicos y ajusta según sea necesario después de su implementación inicial\n",
       "4.   Despliegue y monitoreo de la solución"
      ],
      "text/plain": [
       "<IPython.core.display.Markdown object>"
      ]
     },
     "metadata": {},
     "output_type": "display_data"
    }
   ],
   "source": [
    "model_name = \"llama3.2\"\n",
    "llm = Llm(model = model_name,url='http://localhost:11434/v1',api_key=\"ollama\")\n",
    "response = llm.generate_response(\"Dame un ejemplo de uso en un negocio de la IA agéntica\")\n",
    "llm.visualize_response(response)"
   ]
  }
 ],
 "metadata": {
  "kernelspec": {
   "display_name": ".venv",
   "language": "python",
   "name": "python3"
  },
  "language_info": {
   "codemirror_mode": {
    "name": "ipython",
    "version": 3
   },
   "file_extension": ".py",
   "mimetype": "text/x-python",
   "name": "python",
   "nbconvert_exporter": "python",
   "pygments_lexer": "ipython3",
   "version": "3.9.12"
  }
 },
 "nbformat": 4,
 "nbformat_minor": 5
}
