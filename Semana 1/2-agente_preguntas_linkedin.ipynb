{
 "cells": [
  {
   "cell_type": "markdown",
   "id": "970e8673",
   "metadata": {},
   "source": [
    "# Creación de un agente que hable como si fuera yo, con datos de linkedin"
   ]
  },
  {
   "cell_type": "markdown",
   "id": "bd92622a",
   "metadata": {},
   "source": [
    "No usa RAG, es una práctica de SYSTEM_PROMPT"
   ]
  },
  {
   "cell_type": "markdown",
   "id": "1081e411",
   "metadata": {},
   "source": [
    "## Importaciones"
   ]
  },
  {
   "cell_type": "code",
   "execution_count": 1,
   "id": "dba1a6e8",
   "metadata": {},
   "outputs": [
    {
     "name": "stdout",
     "output_type": "stream",
     "text": [
      "Requirement already satisfied: openai in c:\\users\\jorge\\desktop\\programacion\\curso\\agents_frogames_my_examples\\.venv\\lib\\site-packages (1.98.0)\n",
      "Requirement already satisfied: anyio<5,>=3.5.0 in c:\\users\\jorge\\desktop\\programacion\\curso\\agents_frogames_my_examples\\.venv\\lib\\site-packages (from openai) (4.10.0)\n",
      "Requirement already satisfied: distro<2,>=1.7.0 in c:\\users\\jorge\\desktop\\programacion\\curso\\agents_frogames_my_examples\\.venv\\lib\\site-packages (from openai) (1.9.0)\n",
      "Requirement already satisfied: httpx<1,>=0.23.0 in c:\\users\\jorge\\desktop\\programacion\\curso\\agents_frogames_my_examples\\.venv\\lib\\site-packages (from openai) (0.28.1)\n",
      "Requirement already satisfied: jiter<1,>=0.4.0 in c:\\users\\jorge\\desktop\\programacion\\curso\\agents_frogames_my_examples\\.venv\\lib\\site-packages (from openai) (0.10.0)\n",
      "Requirement already satisfied: pydantic<3,>=1.9.0 in c:\\users\\jorge\\desktop\\programacion\\curso\\agents_frogames_my_examples\\.venv\\lib\\site-packages (from openai) (2.11.7)\n",
      "Requirement already satisfied: sniffio in c:\\users\\jorge\\desktop\\programacion\\curso\\agents_frogames_my_examples\\.venv\\lib\\site-packages (from openai) (1.3.1)\n",
      "Requirement already satisfied: tqdm>4 in c:\\users\\jorge\\desktop\\programacion\\curso\\agents_frogames_my_examples\\.venv\\lib\\site-packages (from openai) (4.67.1)\n",
      "Requirement already satisfied: typing-extensions<5,>=4.11 in c:\\users\\jorge\\desktop\\programacion\\curso\\agents_frogames_my_examples\\.venv\\lib\\site-packages (from openai) (4.14.1)\n",
      "Requirement already satisfied: exceptiongroup>=1.0.2 in c:\\users\\jorge\\desktop\\programacion\\curso\\agents_frogames_my_examples\\.venv\\lib\\site-packages (from anyio<5,>=3.5.0->openai) (1.3.0)\n",
      "Requirement already satisfied: idna>=2.8 in c:\\users\\jorge\\desktop\\programacion\\curso\\agents_frogames_my_examples\\.venv\\lib\\site-packages (from anyio<5,>=3.5.0->openai) (3.10)\n",
      "Requirement already satisfied: certifi in c:\\users\\jorge\\desktop\\programacion\\curso\\agents_frogames_my_examples\\.venv\\lib\\site-packages (from httpx<1,>=0.23.0->openai) (2025.8.3)\n",
      "Requirement already satisfied: httpcore==1.* in c:\\users\\jorge\\desktop\\programacion\\curso\\agents_frogames_my_examples\\.venv\\lib\\site-packages (from httpx<1,>=0.23.0->openai) (1.0.9)\n",
      "Requirement already satisfied: h11>=0.16 in c:\\users\\jorge\\desktop\\programacion\\curso\\agents_frogames_my_examples\\.venv\\lib\\site-packages (from httpcore==1.*->httpx<1,>=0.23.0->openai) (0.16.0)\n",
      "Requirement already satisfied: annotated-types>=0.6.0 in c:\\users\\jorge\\desktop\\programacion\\curso\\agents_frogames_my_examples\\.venv\\lib\\site-packages (from pydantic<3,>=1.9.0->openai) (0.7.0)\n",
      "Requirement already satisfied: pydantic-core==2.33.2 in c:\\users\\jorge\\desktop\\programacion\\curso\\agents_frogames_my_examples\\.venv\\lib\\site-packages (from pydantic<3,>=1.9.0->openai) (2.33.2)\n",
      "Requirement already satisfied: typing-inspection>=0.4.0 in c:\\users\\jorge\\desktop\\programacion\\curso\\agents_frogames_my_examples\\.venv\\lib\\site-packages (from pydantic<3,>=1.9.0->openai) (0.4.1)\n",
      "Requirement already satisfied: colorama in c:\\users\\jorge\\desktop\\programacion\\curso\\agents_frogames_my_examples\\.venv\\lib\\site-packages (from tqdm>4->openai) (0.4.6)\n",
      "Requirement already satisfied: gradio in c:\\users\\jorge\\desktop\\programacion\\curso\\agents_frogames_my_examples\\.venv\\lib\\site-packages (4.44.1)\n",
      "Requirement already satisfied: aiofiles<24.0,>=22.0 in c:\\users\\jorge\\desktop\\programacion\\curso\\agents_frogames_my_examples\\.venv\\lib\\site-packages (from gradio) (23.2.1)\n",
      "Requirement already satisfied: anyio<5.0,>=3.0 in c:\\users\\jorge\\desktop\\programacion\\curso\\agents_frogames_my_examples\\.venv\\lib\\site-packages (from gradio) (4.10.0)\n",
      "Requirement already satisfied: fastapi<1.0 in c:\\users\\jorge\\desktop\\programacion\\curso\\agents_frogames_my_examples\\.venv\\lib\\site-packages (from gradio) (0.116.1)\n",
      "Requirement already satisfied: ffmpy in c:\\users\\jorge\\desktop\\programacion\\curso\\agents_frogames_my_examples\\.venv\\lib\\site-packages (from gradio) (0.6.1)\n",
      "Requirement already satisfied: gradio-client==1.3.0 in c:\\users\\jorge\\desktop\\programacion\\curso\\agents_frogames_my_examples\\.venv\\lib\\site-packages (from gradio) (1.3.0)\n",
      "Requirement already satisfied: httpx>=0.24.1 in c:\\users\\jorge\\desktop\\programacion\\curso\\agents_frogames_my_examples\\.venv\\lib\\site-packages (from gradio) (0.28.1)\n",
      "Requirement already satisfied: huggingface-hub>=0.19.3 in c:\\users\\jorge\\desktop\\programacion\\curso\\agents_frogames_my_examples\\.venv\\lib\\site-packages (from gradio) (0.34.3)\n",
      "Requirement already satisfied: importlib-resources<7.0,>=1.3 in c:\\users\\jorge\\desktop\\programacion\\curso\\agents_frogames_my_examples\\.venv\\lib\\site-packages (from gradio) (6.5.2)\n",
      "Requirement already satisfied: jinja2<4.0 in c:\\users\\jorge\\desktop\\programacion\\curso\\agents_frogames_my_examples\\.venv\\lib\\site-packages (from gradio) (3.1.6)\n",
      "Requirement already satisfied: markupsafe~=2.0 in c:\\users\\jorge\\desktop\\programacion\\curso\\agents_frogames_my_examples\\.venv\\lib\\site-packages (from gradio) (2.1.5)\n",
      "Requirement already satisfied: matplotlib~=3.0 in c:\\users\\jorge\\desktop\\programacion\\curso\\agents_frogames_my_examples\\.venv\\lib\\site-packages (from gradio) (3.9.4)\n",
      "Requirement already satisfied: numpy<3.0,>=1.0 in c:\\users\\jorge\\desktop\\programacion\\curso\\agents_frogames_my_examples\\.venv\\lib\\site-packages (from gradio) (2.0.2)\n",
      "Requirement already satisfied: orjson~=3.0 in c:\\users\\jorge\\desktop\\programacion\\curso\\agents_frogames_my_examples\\.venv\\lib\\site-packages (from gradio) (3.11.1)\n",
      "Requirement already satisfied: packaging in c:\\users\\jorge\\desktop\\programacion\\curso\\agents_frogames_my_examples\\.venv\\lib\\site-packages (from gradio) (25.0)\n",
      "Requirement already satisfied: pandas<3.0,>=1.0 in c:\\users\\jorge\\desktop\\programacion\\curso\\agents_frogames_my_examples\\.venv\\lib\\site-packages (from gradio) (2.3.1)\n",
      "Requirement already satisfied: pillow<11.0,>=8.0 in c:\\users\\jorge\\desktop\\programacion\\curso\\agents_frogames_my_examples\\.venv\\lib\\site-packages (from gradio) (10.4.0)\n",
      "Requirement already satisfied: pydantic>=2.0 in c:\\users\\jorge\\desktop\\programacion\\curso\\agents_frogames_my_examples\\.venv\\lib\\site-packages (from gradio) (2.11.7)\n",
      "Requirement already satisfied: pydub in c:\\users\\jorge\\desktop\\programacion\\curso\\agents_frogames_my_examples\\.venv\\lib\\site-packages (from gradio) (0.25.1)\n",
      "Requirement already satisfied: python-multipart>=0.0.9 in c:\\users\\jorge\\desktop\\programacion\\curso\\agents_frogames_my_examples\\.venv\\lib\\site-packages (from gradio) (0.0.20)\n",
      "Requirement already satisfied: pyyaml<7.0,>=5.0 in c:\\users\\jorge\\desktop\\programacion\\curso\\agents_frogames_my_examples\\.venv\\lib\\site-packages (from gradio) (6.0.2)\n",
      "Requirement already satisfied: ruff>=0.2.2 in c:\\users\\jorge\\desktop\\programacion\\curso\\agents_frogames_my_examples\\.venv\\lib\\site-packages (from gradio) (0.12.7)\n",
      "Requirement already satisfied: semantic-version~=2.0 in c:\\users\\jorge\\desktop\\programacion\\curso\\agents_frogames_my_examples\\.venv\\lib\\site-packages (from gradio) (2.10.0)\n",
      "Requirement already satisfied: tomlkit==0.12.0 in c:\\users\\jorge\\desktop\\programacion\\curso\\agents_frogames_my_examples\\.venv\\lib\\site-packages (from gradio) (0.12.0)\n",
      "Requirement already satisfied: typer<1.0,>=0.12 in c:\\users\\jorge\\desktop\\programacion\\curso\\agents_frogames_my_examples\\.venv\\lib\\site-packages (from gradio) (0.16.0)\n",
      "Requirement already satisfied: typing-extensions~=4.0 in c:\\users\\jorge\\desktop\\programacion\\curso\\agents_frogames_my_examples\\.venv\\lib\\site-packages (from gradio) (4.14.1)\n",
      "Requirement already satisfied: urllib3~=2.0 in c:\\users\\jorge\\desktop\\programacion\\curso\\agents_frogames_my_examples\\.venv\\lib\\site-packages (from gradio) (2.5.0)\n",
      "Requirement already satisfied: uvicorn>=0.14.0 in c:\\users\\jorge\\desktop\\programacion\\curso\\agents_frogames_my_examples\\.venv\\lib\\site-packages (from gradio) (0.35.0)\n",
      "Requirement already satisfied: fsspec in c:\\users\\jorge\\desktop\\programacion\\curso\\agents_frogames_my_examples\\.venv\\lib\\site-packages (from gradio-client==1.3.0->gradio) (2025.7.0)\n",
      "Requirement already satisfied: websockets<13.0,>=10.0 in c:\\users\\jorge\\desktop\\programacion\\curso\\agents_frogames_my_examples\\.venv\\lib\\site-packages (from gradio-client==1.3.0->gradio) (12.0)\n",
      "Requirement already satisfied: exceptiongroup>=1.0.2 in c:\\users\\jorge\\desktop\\programacion\\curso\\agents_frogames_my_examples\\.venv\\lib\\site-packages (from anyio<5.0,>=3.0->gradio) (1.3.0)\n",
      "Requirement already satisfied: idna>=2.8 in c:\\users\\jorge\\desktop\\programacion\\curso\\agents_frogames_my_examples\\.venv\\lib\\site-packages (from anyio<5.0,>=3.0->gradio) (3.10)\n",
      "Requirement already satisfied: sniffio>=1.1 in c:\\users\\jorge\\desktop\\programacion\\curso\\agents_frogames_my_examples\\.venv\\lib\\site-packages (from anyio<5.0,>=3.0->gradio) (1.3.1)\n",
      "Requirement already satisfied: starlette<0.48.0,>=0.40.0 in c:\\users\\jorge\\desktop\\programacion\\curso\\agents_frogames_my_examples\\.venv\\lib\\site-packages (from fastapi<1.0->gradio) (0.47.2)\n",
      "Requirement already satisfied: zipp>=3.1.0 in c:\\users\\jorge\\desktop\\programacion\\curso\\agents_frogames_my_examples\\.venv\\lib\\site-packages (from importlib-resources<7.0,>=1.3->gradio) (3.23.0)\n",
      "Requirement already satisfied: contourpy>=1.0.1 in c:\\users\\jorge\\desktop\\programacion\\curso\\agents_frogames_my_examples\\.venv\\lib\\site-packages (from matplotlib~=3.0->gradio) (1.3.0)\n",
      "Requirement already satisfied: cycler>=0.10 in c:\\users\\jorge\\desktop\\programacion\\curso\\agents_frogames_my_examples\\.venv\\lib\\site-packages (from matplotlib~=3.0->gradio) (0.12.1)\n",
      "Requirement already satisfied: fonttools>=4.22.0 in c:\\users\\jorge\\desktop\\programacion\\curso\\agents_frogames_my_examples\\.venv\\lib\\site-packages (from matplotlib~=3.0->gradio) (4.59.0)\n",
      "Requirement already satisfied: kiwisolver>=1.3.1 in c:\\users\\jorge\\desktop\\programacion\\curso\\agents_frogames_my_examples\\.venv\\lib\\site-packages (from matplotlib~=3.0->gradio) (1.4.7)\n",
      "Requirement already satisfied: pyparsing>=2.3.1 in c:\\users\\jorge\\desktop\\programacion\\curso\\agents_frogames_my_examples\\.venv\\lib\\site-packages (from matplotlib~=3.0->gradio) (3.2.3)\n",
      "Requirement already satisfied: python-dateutil>=2.7 in c:\\users\\jorge\\desktop\\programacion\\curso\\agents_frogames_my_examples\\.venv\\lib\\site-packages (from matplotlib~=3.0->gradio) (2.9.0.post0)\n",
      "Requirement already satisfied: pytz>=2020.1 in c:\\users\\jorge\\desktop\\programacion\\curso\\agents_frogames_my_examples\\.venv\\lib\\site-packages (from pandas<3.0,>=1.0->gradio) (2025.2)\n",
      "Requirement already satisfied: tzdata>=2022.7 in c:\\users\\jorge\\desktop\\programacion\\curso\\agents_frogames_my_examples\\.venv\\lib\\site-packages (from pandas<3.0,>=1.0->gradio) (2025.2)\n",
      "Requirement already satisfied: annotated-types>=0.6.0 in c:\\users\\jorge\\desktop\\programacion\\curso\\agents_frogames_my_examples\\.venv\\lib\\site-packages (from pydantic>=2.0->gradio) (0.7.0)\n",
      "Requirement already satisfied: pydantic-core==2.33.2 in c:\\users\\jorge\\desktop\\programacion\\curso\\agents_frogames_my_examples\\.venv\\lib\\site-packages (from pydantic>=2.0->gradio) (2.33.2)\n",
      "Requirement already satisfied: typing-inspection>=0.4.0 in c:\\users\\jorge\\desktop\\programacion\\curso\\agents_frogames_my_examples\\.venv\\lib\\site-packages (from pydantic>=2.0->gradio) (0.4.1)\n",
      "Requirement already satisfied: click>=8.0.0 in c:\\users\\jorge\\desktop\\programacion\\curso\\agents_frogames_my_examples\\.venv\\lib\\site-packages (from typer<1.0,>=0.12->gradio) (8.1.8)\n",
      "Requirement already satisfied: shellingham>=1.3.0 in c:\\users\\jorge\\desktop\\programacion\\curso\\agents_frogames_my_examples\\.venv\\lib\\site-packages (from typer<1.0,>=0.12->gradio) (1.5.4)\n",
      "Requirement already satisfied: rich>=10.11.0 in c:\\users\\jorge\\desktop\\programacion\\curso\\agents_frogames_my_examples\\.venv\\lib\\site-packages (from typer<1.0,>=0.12->gradio) (14.1.0)\n",
      "Requirement already satisfied: colorama in c:\\users\\jorge\\desktop\\programacion\\curso\\agents_frogames_my_examples\\.venv\\lib\\site-packages (from click>=8.0.0->typer<1.0,>=0.12->gradio) (0.4.6)\n",
      "Requirement already satisfied: certifi in c:\\users\\jorge\\desktop\\programacion\\curso\\agents_frogames_my_examples\\.venv\\lib\\site-packages (from httpx>=0.24.1->gradio) (2025.8.3)\n",
      "Requirement already satisfied: httpcore==1.* in c:\\users\\jorge\\desktop\\programacion\\curso\\agents_frogames_my_examples\\.venv\\lib\\site-packages (from httpx>=0.24.1->gradio) (1.0.9)\n",
      "Requirement already satisfied: h11>=0.16 in c:\\users\\jorge\\desktop\\programacion\\curso\\agents_frogames_my_examples\\.venv\\lib\\site-packages (from httpcore==1.*->httpx>=0.24.1->gradio) (0.16.0)\n",
      "Requirement already satisfied: filelock in c:\\users\\jorge\\desktop\\programacion\\curso\\agents_frogames_my_examples\\.venv\\lib\\site-packages (from huggingface-hub>=0.19.3->gradio) (3.18.0)\n",
      "Requirement already satisfied: requests in c:\\users\\jorge\\desktop\\programacion\\curso\\agents_frogames_my_examples\\.venv\\lib\\site-packages (from huggingface-hub>=0.19.3->gradio) (2.32.4)\n",
      "Requirement already satisfied: tqdm>=4.42.1 in c:\\users\\jorge\\desktop\\programacion\\curso\\agents_frogames_my_examples\\.venv\\lib\\site-packages (from huggingface-hub>=0.19.3->gradio) (4.67.1)\n",
      "Requirement already satisfied: six>=1.5 in c:\\users\\jorge\\desktop\\programacion\\curso\\agents_frogames_my_examples\\.venv\\lib\\site-packages (from python-dateutil>=2.7->matplotlib~=3.0->gradio) (1.17.0)\n",
      "Requirement already satisfied: markdown-it-py>=2.2.0 in c:\\users\\jorge\\desktop\\programacion\\curso\\agents_frogames_my_examples\\.venv\\lib\\site-packages (from rich>=10.11.0->typer<1.0,>=0.12->gradio) (3.0.0)\n",
      "Requirement already satisfied: pygments<3.0.0,>=2.13.0 in c:\\users\\jorge\\desktop\\programacion\\curso\\agents_frogames_my_examples\\.venv\\lib\\site-packages (from rich>=10.11.0->typer<1.0,>=0.12->gradio) (2.19.2)\n",
      "Requirement already satisfied: mdurl~=0.1 in c:\\users\\jorge\\desktop\\programacion\\curso\\agents_frogames_my_examples\\.venv\\lib\\site-packages (from markdown-it-py>=2.2.0->rich>=10.11.0->typer<1.0,>=0.12->gradio) (0.1.2)\n",
      "Requirement already satisfied: charset_normalizer<4,>=2 in c:\\users\\jorge\\desktop\\programacion\\curso\\agents_frogames_my_examples\\.venv\\lib\\site-packages (from requests->huggingface-hub>=0.19.3->gradio) (3.4.2)\n",
      "Requirement already satisfied: PyPDF2 in c:\\users\\jorge\\desktop\\programacion\\curso\\agents_frogames_my_examples\\.venv\\lib\\site-packages (3.0.1)\n",
      "Requirement already satisfied: typing_extensions>=3.10.0.0 in c:\\users\\jorge\\desktop\\programacion\\curso\\agents_frogames_my_examples\\.venv\\lib\\site-packages (from PyPDF2) (4.14.1)\n"
     ]
    }
   ],
   "source": [
    "!pip install openai\n",
    "!pip install gradio\n",
    "!pip install PyPDF2"
   ]
  },
  {
   "cell_type": "code",
   "execution_count": 2,
   "id": "da4a67f4",
   "metadata": {},
   "outputs": [
    {
     "name": "stderr",
     "output_type": "stream",
     "text": [
      "c:\\Users\\Jorge\\Desktop\\programacion\\CURSO\\agents_frogames_my_examples\\.venv\\lib\\site-packages\\tqdm\\auto.py:21: TqdmWarning: IProgress not found. Please update jupyter and ipywidgets. See https://ipywidgets.readthedocs.io/en/stable/user_install.html\n",
      "  from .autonotebook import tqdm as notebook_tqdm\n"
     ]
    }
   ],
   "source": [
    "from openai import OpenAI\n",
    "from typing import List, Dict, Optional\n",
    "from IPython.display import display, Markdown\n",
    "import gradio as gr\n",
    "from PyPDF2 import PdfReader"
   ]
  },
  {
   "cell_type": "markdown",
   "id": "a04671fa",
   "metadata": {},
   "source": [
    "## Funciones"
   ]
  },
  {
   "cell_type": "code",
   "execution_count": 3,
   "id": "c42b65b2",
   "metadata": {},
   "outputs": [],
   "source": [
    "class Llm:\n",
    "    def __init__(self, model: str, url: str, api_key: str, system_prompt: str = \"\"):\n",
    "        self._model = model\n",
    "        self._url = url\n",
    "        self._api_key = api_key\n",
    "        self._system_prompt = system_prompt\n",
    "        self._client = self._load_openai()\n",
    "\n",
    "    @property\n",
    "    def model(self) -> str:\n",
    "        return self._model\n",
    "\n",
    "    @model.setter\n",
    "    def model(self, value: str):\n",
    "        self._model = value\n",
    "\n",
    "    @property\n",
    "    def url(self) -> str:\n",
    "        return self._url\n",
    "\n",
    "    @url.setter\n",
    "    def url(self, value: str):\n",
    "        self._url = value\n",
    "        self._client = self._load_openai()  \n",
    "    \n",
    "    @property\n",
    "    def system_prompt(self) -> str:\n",
    "        return self._system_prompt\n",
    "    \n",
    "    @system_prompt.setter\n",
    "    def system_prompt(self, new_sys_prompt: str):\n",
    "        self._system_prompt = new_sys_prompt\n",
    "\n",
    "    def _load_openai(self) -> OpenAI:\n",
    "        return OpenAI(base_url=self._url, api_key=self._api_key)\n",
    "\n",
    "    def _format_message(self, user_message: str) -> List[Dict[str, str]]:\n",
    "        return [{\"role\": \"user\", \"content\": user_message}]\n",
    "    \n",
    "    def _format_sys_prompt(self) -> List[Dict[str, str]]:\n",
    "        return [{\"role\": \"system\", \"content\": self._system_prompt}]\n",
    "\n",
    "    def generate_response(self, user_message: str) -> str:\n",
    "        if not self._system_prompt:\n",
    "            messages = self._format_message(user_message)\n",
    "        else:\n",
    "            messages = self._format_sys_prompt() + self._format_message(user_message)\n",
    "        \n",
    "        response = self._client.chat.completions.create(\n",
    "            model=self._model,\n",
    "            messages=messages\n",
    "        )\n",
    "        return response.choices[0].message.content\n",
    "\n",
    "    def chat(self, message, history):\n",
    "        messages = self._format_sys_prompt() + history + self._format_message(message)\n",
    "        response = self._client.chat.completions.create(\n",
    "            model=self._model,\n",
    "            messages=messages\n",
    "        )\n",
    "        return response.choices[0].message.content\n",
    "\n",
    "    def visualize_response(self, response: str) -> None:\n",
    "        display(Markdown(response))\n",
    "    \n",
    "    @staticmethod\n",
    "    def launch_chat(chat):\n",
    "        gr.ChatInterface(fn=chat, type=\"messages\").launch(share=True)\n",
    "\n",
    "\n",
    "class PdfParser:\n",
    "    def __init__(self, route: str):\n",
    "        self._route = route\n",
    "        self._reader = self._load_reader()\n",
    "\n",
    "    def _load_reader(self) -> Optional[PdfReader]:\n",
    "        try:\n",
    "            return PdfReader(self._route)\n",
    "        except Exception as e:\n",
    "            print(f\"Problems loading pdf: {e}\")\n",
    "            return None\n",
    "\n",
    "    def read_document(self) -> str:\n",
    "        if self._reader is None:\n",
    "            return \"\"\n",
    "        text_return = \"\"\n",
    "        for page in self._reader.pages:\n",
    "            text = page.extract_text()\n",
    "            if text:\n",
    "                text_return += text\n",
    "        return text_return"
   ]
  },
  {
   "cell_type": "markdown",
   "id": "2e716114",
   "metadata": {},
   "source": [
    "## Código principal"
   ]
  },
  {
   "cell_type": "code",
   "execution_count": 4,
   "id": "6704bd98",
   "metadata": {},
   "outputs": [],
   "source": [
    "#Primero usa ollama serve en CMD, si no está descargado ollama, descomentar\n",
    "#!ollama run llama3.2"
   ]
  },
  {
   "cell_type": "markdown",
   "id": "7247be4c",
   "metadata": {},
   "source": [
    "Cargamos el pdf"
   ]
  },
  {
   "cell_type": "code",
   "execution_count": 5,
   "id": "62d4411a",
   "metadata": {},
   "outputs": [],
   "source": [
    "pdfParser = PdfParser(\"about_me/linkedin.pdf\")\n",
    "linkedin_doc = pdfParser.read_document()"
   ]
  },
  {
   "cell_type": "markdown",
   "id": "29c47042",
   "metadata": {},
   "source": [
    "Creamos el System_prompt"
   ]
  },
  {
   "cell_type": "code",
   "execution_count": null,
   "id": "b28ab0ac",
   "metadata": {},
   "outputs": [],
   "source": [
    "name = \"Jorge Sequeiros\"\n",
    "\n",
    "system_prompt = f\"Estás actuando como {name}. Estás respondiendo preguntas en el sitio web de {name}, en particular preguntas relacionadas con la carrera, la trayectoria, las habilidades y la experiencia de {name}. \\\n",
    "Tu responsabilidad es representar a {name} en las interacciones en el sitio web con la mayor fidelidad posible. \\\n",
    "Se te proporciona el perfil de LinkedIn de {name} que puedes usar para responder preguntas. \\\n",
    "Sé profesional y atractivo, como si hablaras con un cliente potencial o un futuro empleador que haya visitado el sitio web. \\\n",
    "Si no sabes la respuesta, dilo.\"\n",
    "\n",
    "system_prompt += f\"## Perfil de LinkedIn:\\n{linkedin_doc}\\n\\n\"\n",
    "system_prompt += f\"En este contexto, charla con el usuario, utilizando siempre el personaje de {name}.\""
   ]
  },
  {
   "cell_type": "markdown",
   "id": "aca5fec3",
   "metadata": {},
   "source": [
    "Cargamos el modelo y lo utilizamos"
   ]
  },
  {
   "cell_type": "code",
   "execution_count": 7,
   "id": "79809a12",
   "metadata": {},
   "outputs": [],
   "source": [
    "model_name = \"llama3.2\"\n",
    "llm = Llm(model=model_name, url='http://localhost:11434/v1', api_key=\"ollama\", system_prompt=system_prompt)"
   ]
  },
  {
   "cell_type": "markdown",
   "id": "36ecbb08",
   "metadata": {},
   "source": [
    "Lanzamos interfaz"
   ]
  },
  {
   "cell_type": "code",
   "execution_count": 8,
   "id": "ad6b6086",
   "metadata": {},
   "outputs": [
    {
     "name": "stdout",
     "output_type": "stream",
     "text": [
      "Running on local URL:  http://127.0.0.1:7860\n",
      "Running on public URL: https://7ee6b1ccf258b2b13e.gradio.live\n",
      "\n",
      "This share link expires in 72 hours. For free permanent hosting and GPU upgrades, run `gradio deploy` from Terminal to deploy to Spaces (https://huggingface.co/spaces)\n"
     ]
    },
    {
     "data": {
      "text/html": [
       "<div><iframe src=\"https://7ee6b1ccf258b2b13e.gradio.live\" width=\"100%\" height=\"500\" allow=\"autoplay; camera; microphone; clipboard-read; clipboard-write;\" frameborder=\"0\" allowfullscreen></iframe></div>"
      ],
      "text/plain": [
       "<IPython.core.display.HTML object>"
      ]
     },
     "metadata": {},
     "output_type": "display_data"
    }
   ],
   "source": [
    "llm.launch_chat(llm.chat)"
   ]
  }
 ],
 "metadata": {
  "kernelspec": {
   "display_name": ".venv",
   "language": "python",
   "name": "python3"
  },
  "language_info": {
   "codemirror_mode": {
    "name": "ipython",
    "version": 3
   },
   "file_extension": ".py",
   "mimetype": "text/x-python",
   "name": "python",
   "nbconvert_exporter": "python",
   "pygments_lexer": "ipython3",
   "version": "3.9.12"
  }
 },
 "nbformat": 4,
 "nbformat_minor": 5
}
